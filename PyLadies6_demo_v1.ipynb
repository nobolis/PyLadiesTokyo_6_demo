{
 "cells": [
  {
   "cell_type": "markdown",
   "metadata": {},
   "source": [
    "# PyLadies Tokyo #6 demo"
   ]
  },
  {
   "cell_type": "markdown",
   "metadata": {},
   "source": [
    "## はじめに"
   ]
  },
  {
   "cell_type": "markdown",
   "metadata": {},
   "source": [
    "このファイルはPyLadies Tokyo meet up \\#6 (2015/06/20)のために作成したデモファイルです。"
   ]
  },
  {
   "cell_type": "markdown",
   "metadata": {},
   "source": [
    "## 1. Import Packcages"
   ]
  },
  {
   "cell_type": "markdown",
   "metadata": {},
   "source": [
    "1. Pythonでデータ解析をするためには必要なパッケージをインポートする必要があります。\n",
    "2. 以下のセルで示しているように、import xxxxというかたちでインポートします。\n",
    "3. 一行目の「%matplotlib inline」はmatplotlibの図をipython notebookあるいはJupiterでmatplotlibの図を表示するために必要です。"
   ]
  },
  {
   "cell_type": "markdown",
   "metadata": {},
   "source": [
    "【備考】\n",
    "* 起動時に  \n",
    "```\n",
    "ipython notebook --matplotlib inline\n",
    "```\n",
    "と入力して起動することにより図の表示を可能にする方法もあります。\n",
    "```\n",
    "ipython notebook --pylab inline\n",
    "```\n",
    "として起動する方法は非推奨です（2015/06/20現在）。  \n",
    "  \n",
    "【参考サイト】http://yagays.github.io/blog/2014/08/15/ipython-notebook-matplotlib-inline/"
   ]
  },
  {
   "cell_type": "markdown",
   "metadata": {},
   "source": [
    "#####Impor packages"
   ]
  },
  {
   "cell_type": "code",
   "execution_count": 1,
   "metadata": {
    "collapsed": false
   },
   "outputs": [],
   "source": [
    "%matplotlib inline \n",
    "# ↑matplotlibで書いた図を表示するために必要\n",
    "\n",
    "# パッケージのインポート\n",
    "import numpy as np #numpyをnpと省略（一般的な方法）\n",
    "import pandas as pd #pandasをpdと省略（一般的な方法）\n",
    "import matplotlib.pyplot as plt # 作図用\n",
    "import scipy\n",
    "\n",
    "from matplotlib import lines\n",
    "from pandas import DataFrame\n",
    "# from sympy import init_printing"
   ]
  },
  {
   "cell_type": "markdown",
   "metadata": {},
   "source": [
    "## 2. データセットの作成"
   ]
  },
  {
   "cell_type": "markdown",
   "metadata": {},
   "source": [
    "### 2.1 データセット1"
   ]
  },
  {
   "cell_type": "code",
   "execution_count": 34,
   "metadata": {
    "collapsed": false
   },
   "outputs": [],
   "source": [
    "# Data for Fig. 1\n",
    "a = 2\n",
    "b = 1\n",
    "\n",
    "# Numpyの数列の作成（2, 3, ..., 22）\n",
    "x11 = np.array(range(2, 22))\n",
    "\n",
    "# a, b, x11からy11を生成\n",
    "y11 = a * x11 + b\n",
    "\n",
    "# x11, y11"
   ]
  },
  {
   "cell_type": "code",
   "execution_count": 35,
   "metadata": {
    "collapsed": false
   },
   "outputs": [],
   "source": [
    "# Data for Fig. 2\n",
    "\n",
    "# Numpyの数列の作成\n",
    "x12 = np.array(range(2, 22))\n",
    "\n",
    "# y11を生成（y11を平均値と仮定し、標準偏差を与えて値をばらつかせる）\n",
    "y12 = np.empty(20) # 初期化されていない行列を作成\n",
    "sd = 5 # 標準偏差\n",
    "\n",
    "for i in range(20):\n",
    "    ydat = np.random.normal(y11[i], sd, 1)\n",
    "    y12[i] = ydat\n",
    "\n",
    "# x12, y12"
   ]
  },
  {
   "cell_type": "code",
   "execution_count": 36,
   "metadata": {
    "collapsed": false
   },
   "outputs": [],
   "source": [
    "# Data for Fig. 3\n",
    "\n",
    "c = -0.3\n",
    "d = 15\n",
    "f = 40\n",
    "\n",
    "# Numpyの数列の作成\n",
    "x13 = np.array(range(2, 22))\n",
    "\n",
    "# c, d, f, x13からyの値を生成\n",
    "y13 = c * ( x13 - d ) ** 2 + f \n",
    "\n",
    "# x13, y13"
   ]
  },
  {
   "cell_type": "code",
   "execution_count": 37,
   "metadata": {
    "collapsed": false
   },
   "outputs": [],
   "source": [
    "# Data for Fig.4\n",
    "a2 = 1\n",
    "b2 = 1\n",
    "\n",
    "# Numpyの数列の作成\n",
    "x141 = np.array(range(2, 22))\n",
    "\n",
    "# a2, b2, x141からy141を生成\n",
    "y141 = a2 * x141 + b2\n",
    "\n",
    "\n",
    "y142 = np.empty(20) # 初期化されていない行列を作成\n",
    "sd = 3 # 標準偏差\n",
    "\n",
    "for i in range(20):\n",
    "    ydat3 = np.random.normal(y141[i], sd, 1)\n",
    "    y142[i] = ydat3\n",
    "\n",
    "x14 = np.array(range(2, 22))\n",
    "x14[:19] = x141[:19] * 0.5\n",
    "y14 = y142\n",
    "y14[:19] = y142[:19] * 0.4\n",
    "y14[19] = y14[19] * 2\n",
    "\n",
    "# x14, y14"
   ]
  },
  {
   "cell_type": "markdown",
   "metadata": {},
   "source": [
    "### 2.2 データセット2"
   ]
  },
  {
   "cell_type": "code",
   "execution_count": 38,
   "metadata": {
    "collapsed": false
   },
   "outputs": [],
   "source": [
    "# 平均値\n",
    "mu_y21 = 3\n",
    "mu_y22 = 10\n",
    "mu_x21 = 2\n",
    "mu_x22 = 5\n",
    "\n",
    "# 標準偏差\n",
    "sd_y21 = 2\n",
    "sd_y22 = 1\n",
    "sd_x21 = 1\n",
    "sd_x22 = 0.5\n",
    "\n",
    "# mean±sdに従う乱数を1000個発生\n",
    "y21 = np.random.normal(mu_y21, sd_y21, 1000)\n",
    "y22 = np.random.normal(mu_y22, sd_y22, 1000)\n",
    "x21 = np.random.normal(mu_x21, sd_x21, 1000)\n",
    "x22 = np.random.normal(mu_x22, sd_x22, 1000)\n",
    "\n",
    "# 一つのデータセットとしてまとめる\n",
    "# 要素が初期化されていない空行列を生成\n",
    "y2 = np.zeros(2000) \n",
    "x2= np.zeros(2000)\n",
    "\n",
    "# データを代入\n",
    "y2[:1000] = y21\n",
    "y2[1000:2001] = y22\n",
    "x2[:1000] = x21\n",
    "x2[1000:2001] = x22"
   ]
  },
  {
   "cell_type": "markdown",
   "metadata": {
    "collapsed": false
   },
   "source": [
    "## 3. データを俯瞰する"
   ]
  },
  {
   "cell_type": "markdown",
   "metadata": {},
   "source": [
    "#### データセット1"
   ]
  },
  {
   "cell_type": "markdown",
   "metadata": {},
   "source": [
    "Data for Fig.1-1"
   ]
  },
  {
   "cell_type": "code",
   "execution_count": 45,
   "metadata": {
    "collapsed": false
   },
   "outputs": [
    {
     "data": {
      "text/plain": [
       "(array([ 2,  3,  4,  5,  6,  7,  8,  9, 10, 11, 12, 13, 14, 15, 16, 17, 18,\n",
       "        19, 20, 21]),\n",
       " array([ 5,  7,  9, 11, 13, 15, 17, 19, 21, 23, 25, 27, 29, 31, 33, 35, 37,\n",
       "        39, 41, 43]))"
      ]
     },
     "execution_count": 45,
     "metadata": {},
     "output_type": "execute_result"
    }
   ],
   "source": [
    "x11, y11"
   ]
  },
  {
   "cell_type": "markdown",
   "metadata": {},
   "source": [
    "Data for Fig. 1-2"
   ]
  },
  {
   "cell_type": "code",
   "execution_count": 46,
   "metadata": {
    "collapsed": false
   },
   "outputs": [
    {
     "data": {
      "text/plain": [
       "(array([ 2,  3,  4,  5,  6,  7,  8,  9, 10, 11, 12, 13, 14, 15, 16, 17, 18,\n",
       "        19, 20, 21]),\n",
       " array([ -5.17441593,   1.37000387,   9.67094745,   4.67379846,\n",
       "          9.16813149,  19.30651872,  13.02187171,  20.83942432,\n",
       "         23.83024484,  24.707142  ,  28.56694688,  16.98479114,\n",
       "         20.34940723,  26.5290564 ,  33.22351772,  38.28055936,\n",
       "         38.76046434,  34.64891834,  49.37319921,  39.44176937]))"
      ]
     },
     "execution_count": 46,
     "metadata": {},
     "output_type": "execute_result"
    }
   ],
   "source": [
    "x12, y12"
   ]
  },
  {
   "cell_type": "markdown",
   "metadata": {},
   "source": [
    "Data for Fig. 1-3"
   ]
  },
  {
   "cell_type": "code",
   "execution_count": 47,
   "metadata": {
    "collapsed": false
   },
   "outputs": [
    {
     "data": {
      "text/plain": [
       "(array([ 2,  3,  4,  5,  6,  7,  8,  9, 10, 11, 12, 13, 14, 15, 16, 17, 18,\n",
       "        19, 20, 21]),\n",
       " array([-10.7,  -3.2,   3.7,  10. ,  15.7,  20.8,  25.3,  29.2,  32.5,\n",
       "         35.2,  37.3,  38.8,  39.7,  40. ,  39.7,  38.8,  37.3,  35.2,\n",
       "         32.5,  29.2]))"
      ]
     },
     "execution_count": 47,
     "metadata": {},
     "output_type": "execute_result"
    }
   ],
   "source": [
    "x13, y13"
   ]
  },
  {
   "cell_type": "markdown",
   "metadata": {},
   "source": [
    "Data for Fig. 1-4"
   ]
  },
  {
   "cell_type": "code",
   "execution_count": 48,
   "metadata": {
    "collapsed": false
   },
   "outputs": [
    {
     "data": {
      "text/plain": [
       "(array([ 1,  1,  2,  2,  3,  3,  4,  4,  5,  5,  6,  6,  7,  7,  8,  8,  9,\n",
       "         9, 10, 21]),\n",
       " array([  1.29172864,   0.34220127,  -0.14712159,   3.78416194,\n",
       "          3.0362689 ,   1.99230012,   4.68617498,   4.31858694,\n",
       "          5.40737565,   4.29623132,   4.02121821,   5.59782632,\n",
       "          6.72176588,   8.31692837,   7.03702027,   5.20300762,\n",
       "          7.18140152,   8.00440158,   8.69342595,  42.01011481]))"
      ]
     },
     "execution_count": 48,
     "metadata": {},
     "output_type": "execute_result"
    }
   ],
   "source": [
    "x14, y14"
   ]
  },
  {
   "cell_type": "markdown",
   "metadata": {},
   "source": [
    "#### データセット2"
   ]
  },
  {
   "cell_type": "markdown",
   "metadata": {},
   "source": [
    "Data for Fig. 2"
   ]
  },
  {
   "cell_type": "code",
   "execution_count": 49,
   "metadata": {
    "collapsed": false
   },
   "outputs": [
    {
     "data": {
      "text/plain": [
       "(array([ 2.25958557,  1.26395083,  3.09104547, ...,  4.88282892,\n",
       "         4.57738913,  5.14761869]),\n",
       " array([  6.22545743,   2.67401346,   1.41523537, ...,  10.14611293,\n",
       "         10.72967726,  10.58606173]))"
      ]
     },
     "execution_count": 49,
     "metadata": {},
     "output_type": "execute_result"
    }
   ],
   "source": [
    "x2, y2"
   ]
  },
  {
   "cell_type": "markdown",
   "metadata": {},
   "source": [
    "#### データセット1\n",
    "##### ｘのヒストグラム"
   ]
  },
  {
   "cell_type": "code",
   "execution_count": 50,
   "metadata": {
    "collapsed": false
   },
   "outputs": [
    {
     "data": {
      "text/plain": [
       "<matplotlib.text.Text at 0x6eb9370>"
      ]
     },
     "execution_count": 50,
     "metadata": {},
     "output_type": "execute_result"
    },
    {
     "data": {
      "image/png": "[encoded data removed]",
      "text/plain": [
       "<matplotlib.figure.Figure at 0x6eaff30>"
      ]
     },
     "metadata": {},
     "output_type": "display_data"
    }
   ],
   "source": [
    "f, (axx1, axx2, axx3, axx4) = plt.subplots(1, 4, sharey='row', figsize = (12, 3))\n",
    "\n",
    "axx1.hist(x11, bins = 5)\n",
    "axx2.hist(x12, bins = 5)\n",
    "axx3.hist(x13, bins = 5)\n",
    "axx4.hist(x14, bins = 5)\n",
    "\n",
    "axx1.set_title('x11', fontsize=18)\n",
    "axx2.set_title('x12', fontsize=18)\n",
    "axx3.set_title('x13', fontsize=18)\n",
    "axx4.set_title('x14', fontsize=18)\n",
    "\n",
    "axx1.set_ylabel('sample N', fontsize=18) # y軸\n"
   ]
  },
  {
   "cell_type": "markdown",
   "metadata": {},
   "source": [
    "##### yのヒストグラム"
   ]
  },
  {
   "cell_type": "code",
   "execution_count": 51,
   "metadata": {
    "collapsed": false
   },
   "outputs": [
    {
     "data": {
      "text/plain": [
       "<matplotlib.text.Text at 0x7125e30>"
      ]
     },
     "execution_count": 51,
     "metadata": {},
     "output_type": "execute_result"
    },
    {
     "data": {
      "image/png": "[encoded data removed]",
      "text/plain": [
       "<matplotlib.figure.Figure at 0x70ceb70>"
      ]
     },
     "metadata": {},
     "output_type": "display_data"
    }
   ],
   "source": [
    "f, (axy1, axy2, axy3, axy4) = plt.subplots(1, 4, sharey='row', figsize = (12, 3)) # \n",
    "axy1.hist(y11, bins = 5)\n",
    "axy2.hist(y12, bins = 5)\n",
    "axy3.hist(y13, bins = 5)\n",
    "axy4.hist(y14, bins = 5)\n",
    "\n",
    "axy1.set_title('y11', fontsize=18)\n",
    "axy2.set_title('y12', fontsize=18)\n",
    "axy3.set_title('y13', fontsize=18)\n",
    "axy4.set_title('y14', fontsize=18)\n",
    "\n",
    "axy1.set_ylabel('sample N', fontsize=18) # y軸\n"
   ]
  },
  {
   "cell_type": "markdown",
   "metadata": {},
   "source": [
    "##### xとyの関係"
   ]
  },
  {
   "cell_type": "code",
   "execution_count": 52,
   "metadata": {
    "collapsed": false,
    "scrolled": true
   },
   "outputs": [
    {
     "data": {
      "image/png": "[encoded data removed]",
      "text/plain": [
       "<matplotlib.figure.Figure at 0x9a24a70>"
      ]
     },
     "metadata": {},
     "output_type": "display_data"
    }
   ],
   "source": [
    "f, (ax1, ax2, ax3, ax4) = plt.subplots(1, 4, figsize = (15, 3))\n",
    "ax1.scatter(x11, y11)\n",
    "ax2.scatter(x12, y12)\n",
    "ax3.scatter(x13, y13)\n",
    "ax4.scatter(x14, y14)\n",
    "\n",
    "ax1.set_title('x11-y11', fontsize=18)\n",
    "ax2.set_title('x12-y12', fontsize=18)\n",
    "ax3.set_title('x13-y13', fontsize=18)\n",
    "ax4.set_title('x14-y14', fontsize=18)\n",
    "\n",
    "ax1.set_ylabel('y11', fontsize=18) # y軸\n",
    "ax2.set_ylabel('y12', fontsize=18) # y軸\n",
    "ax3.set_ylabel('y13', fontsize=18) # y軸\n",
    "ax4.set_ylabel('y14', fontsize=18) # y軸\n",
    "\n",
    "ax1.set_xlabel('x11', fontsize=18) # y軸\n",
    "ax2.set_xlabel('x12', fontsize=18) # y軸\n",
    "ax3.set_xlabel('x13', fontsize=18) # y軸\n",
    "ax4.set_xlabel('x14', fontsize=18) # y軸\n",
    "\n",
    "f.subplots_adjust(left=None, bottom=None, right=None, top=None, wspace=0.4, hspace=None)"
   ]
  },
  {
   "cell_type": "markdown",
   "metadata": {},
   "source": [
    "#### データセット2\n",
    "##### x, yのヒストグラムとx-yの関係式"
   ]
  },
  {
   "cell_type": "code",
   "execution_count": 53,
   "metadata": {
    "collapsed": false
   },
   "outputs": [
    {
     "data": {
      "image/png": "[encoded data removed]",
      "text/plain": [
       "<matplotlib.figure.Figure at 0x9a206b0>"
      ]
     },
     "metadata": {},
     "output_type": "display_data"
    }
   ],
   "source": [
    "f, (axx5, axy5, ax5) = plt.subplots(1, 3, figsize = (12, 3))\n",
    "\n",
    "axx5.hist(x2)\n",
    "axy5.hist(y2)\n",
    "ax5.scatter(x2, y2)\n",
    "\n",
    "axx5.set_title('x2', fontsize=18)\n",
    "axy5.set_title('y2', fontsize=18)\n",
    "ax5.set_title('x2-y2', fontsize=18)\n",
    "\n",
    "axx5.set_ylabel('sample N', fontsize=18)\n",
    "axy5.set_ylabel('sample N', fontsize=18)\n",
    "\n",
    "ax5.set_ylabel('y2', fontsize=18)\n",
    "ax5.set_xlabel('x2', fontsize=18)\n",
    "\n",
    "f.subplots_adjust(left=None, bottom=None, right=None, top=None, wspace=0.4, hspace=None)"
   ]
  },
  {
   "cell_type": "markdown",
   "metadata": {},
   "source": [
    "### 4. 線形回帰\n",
    "####線形回帰分析"
   ]
  },
  {
   "cell_type": "code",
   "execution_count": 16,
   "metadata": {
    "collapsed": true
   },
   "outputs": [],
   "source": [
    "from scipy import stats # 統計解析（このファイルでは直線回帰）"
   ]
  },
  {
   "cell_type": "markdown",
   "metadata": {},
   "source": [
    "* stats.linregress(x, y) \n",
    "* 戻り値は  \n",
    "    - slope 傾き  \n",
    "    - intercept 切片  \n",
    "    - r-value 相関係数\n",
    "    - p-value p値  \n",
    "    - standard error 標準偏差  \n",
    "* 結果はタプルで表示される"
   ]
  },
  {
   "cell_type": "markdown",
   "metadata": {},
   "source": [
    "##### 回帰をおこなうときによく使う統計値\n",
    "\n",
    "* 相関係数 r  \n",
    "    - -1から1の値をとり、<b>絶対値が1に近いほど点が直線的に並んでいる</b>ことを意味する  \n",
    "    - 値がマイナスだと負の相関、プラスだと正の相関を意味\n",
    "\n",
    "\n",
    "* p値  \n",
    "    - 帰無仮説の下で実際にデータから計算された統計量よりも極端な統計量が観測される確率    \n",
    "\n",
    "    - 直線回帰における帰無仮説 ＝ xの値とyの値の間に関係はない（無相関）  \n",
    "\n",
    "    - 有意水準α（多くは0.05）のとき、<b>p<αなら帰無仮説は棄却</b>  \n",
    "        ＝ <b>xとyの間には関係がある</b>\n",
    "\n"
   ]
  },
  {
   "cell_type": "code",
   "execution_count": 55,
   "metadata": {
    "collapsed": false
   },
   "outputs": [
    {
     "data": {
      "text/plain": [
       "(1.8225000397185271,\n",
       " 0.065385908920458036,\n",
       " 0.80028745344710261,\n",
       " 0.0,\n",
       " 0.030549028127999089)"
      ]
     },
     "execution_count": 55,
     "metadata": {},
     "output_type": "execute_result"
    }
   ],
   "source": [
    "# 回帰分析\n",
    "regr1 = stats.linregress(x11, y11) \n",
    "regr2 = stats.linregress(x12, y12)\n",
    "regr3 = stats.linregress(x13, y13) \n",
    "regr4 = stats.linregress(x14, y14) \n",
    "regr5 = stats.linregress(x2, y2) \n",
    "regr5"
   ]
  },
  {
   "cell_type": "markdown",
   "metadata": {},
   "source": [
    "slope 傾き  \n",
    "intercept 切片  \n",
    "r-value 相関係数  \n",
    "p-value p値 "
   ]
  },
  {
   "cell_type": "code",
   "execution_count": 56,
   "metadata": {
    "collapsed": false
   },
   "outputs": [
    {
     "data": {
      "text/plain": [
       "1.8225000397185271"
      ]
     },
     "execution_count": 56,
     "metadata": {},
     "output_type": "execute_result"
    }
   ],
   "source": [
    "# こういう書き方もOK\n",
    "slp11, intcpt11, rval11, pval11, sd11 = stats.linregress(x11, y11)\n",
    "slp12, intcpt12, rval12, pval12, sd12 = stats.linregress(x12, y12)\n",
    "slp13, intcpt13, rval13, pval13, sd13 = stats.linregress(x13, y13)\n",
    "slp14, intcpt14, rval14, pval14, sd14 = stats.linregress(x14, y14)\n",
    "slp2, intcpt2, rval2, pval2, sd2 = stats.linregress(x2, y2)\n",
    "slp2"
   ]
  },
  {
   "cell_type": "markdown",
   "metadata": {},
   "source": [
    "#### データセット1の結果\n",
    "描画"
   ]
  },
  {
   "cell_type": "code",
   "execution_count": 57,
   "metadata": {
    "collapsed": false
   },
   "outputs": [
    {
     "data": {
      "text/plain": [
       "<matplotlib.lines.Line2D at 0x9c64f10>"
      ]
     },
     "execution_count": 57,
     "metadata": {},
     "output_type": "execute_result"
    },
    {
     "data": {
      "image/png": "[encoded data removed]",
      "text/plain": [
       "<matplotlib.figure.Figure at 0x9b280f0>"
      ]
     },
     "metadata": {},
     "output_type": "display_data"
    }
   ],
   "source": [
    "# 散布図の作成\n",
    "f, (ax1, ax2, ax3, ax4) = plt.subplots(1, 4, figsize = (15, 3))\n",
    "ax1.scatter(x11, y11)\n",
    "ax2.scatter(x12, y12)\n",
    "ax3.scatter(x13, y13)\n",
    "ax4.scatter(x14, y14)\n",
    "\n",
    "ax1.set_title('x1-y1', fontsize=18)\n",
    "ax2.set_title('x2-y2', fontsize=18)\n",
    "ax3.set_title('x3-y3', fontsize=18)\n",
    "ax4.set_title('x4-y4', fontsize=18)\n",
    "\n",
    "ax1.set_ylabel('y1', fontsize=18) # y軸\n",
    "ax2.set_ylabel('y2', fontsize=18) # y軸\n",
    "ax3.set_ylabel('y3', fontsize=18) # y軸\n",
    "ax4.set_ylabel('y4', fontsize=18) # y軸\n",
    "\n",
    "ax1.set_xlabel('x1', fontsize=18) # y軸\n",
    "ax2.set_xlabel('x2', fontsize=18) # y軸\n",
    "ax3.set_xlabel('x3', fontsize=18) # y軸\n",
    "ax4.set_xlabel('x4', fontsize=18) # y軸\n",
    "\n",
    "f.subplots_adjust(left=None, bottom=None, right=None, top=None, wspace=0.4, hspace=None)\n",
    "\n",
    "# 回帰直線の描画\n",
    "lregr1 = lines.Line2D([1, 20], [1 * slp11 + intcpt11, 20 * slp11 + intcpt11], \n",
    "                     color = 'r', linewidth = 2)\n",
    "\n",
    "lregr2 = lines.Line2D([1, 20], [1 * slp12 + intcpt12, 20 * slp12 + intcpt12], \n",
    "                     color = 'r', linewidth = 2)\n",
    "\n",
    "lregr3 = lines.Line2D([1, 20], [1 * slp13 + intcpt13, 20 * slp13 + intcpt13], \n",
    "                     color = 'r', linewidth = 2)\n",
    "\n",
    "lregr4 = lines.Line2D([1, 20], [1 * slp14 + intcpt14, 20 * slp14 + intcpt14], \n",
    "                     color = 'r', linewidth = 2)\n",
    "\n",
    "ax1.add_line(lregr1)\n",
    "ax2.add_line(lregr2)\n",
    "ax3.add_line(lregr3)\n",
    "ax4.add_line(lregr4)\n"
   ]
  },
  {
   "cell_type": "markdown",
   "metadata": {},
   "source": [
    "回帰の有意性？"
   ]
  },
  {
   "cell_type": "code",
   "execution_count": 58,
   "metadata": {
    "collapsed": false,
    "scrolled": true
   },
   "outputs": [
    {
     "data": {
      "text/html": [
       "<div style=\"max-height:1000px;max-width:1500px;overflow:auto;\">\n",
       "<table border=\"1\" class=\"dataframe\">\n",
       "  <thead>\n",
       "    <tr style=\"text-align: right;\">\n",
       "      <th></th>\n",
       "      <th>相関係数 r</th>\n",
       "      <th>p値</th>\n",
       "    </tr>\n",
       "  </thead>\n",
       "  <tbody>\n",
       "    <tr>\n",
       "      <th>Fig. 1</th>\n",
       "      <td> 1.000000</td>\n",
       "      <td> 9.496094e-179</td>\n",
       "    </tr>\n",
       "    <tr>\n",
       "      <th>Fig. 2</th>\n",
       "      <td> 0.937633</td>\n",
       "      <td>  1.079851e-09</td>\n",
       "    </tr>\n",
       "    <tr>\n",
       "      <th>Fig. 3</th>\n",
       "      <td> 0.806144</td>\n",
       "      <td>  1.773748e-05</td>\n",
       "    </tr>\n",
       "    <tr>\n",
       "      <th>Fig. 4</th>\n",
       "      <td> 0.916519</td>\n",
       "      <td>  1.377218e-08</td>\n",
       "    </tr>\n",
       "  </tbody>\n",
       "</table>\n",
       "</div>"
      ],
      "text/plain": [
       "          相関係数 r             p値\n",
       "Fig. 1  1.000000  9.496094e-179\n",
       "Fig. 2  0.937633   1.079851e-09\n",
       "Fig. 3  0.806144   1.773748e-05\n",
       "Fig. 4  0.916519   1.377218e-08"
      ]
     },
     "execution_count": 58,
     "metadata": {},
     "output_type": "execute_result"
    }
   ],
   "source": [
    "r_p = [[regr1[2], regr1[3]], [regr2[2], regr2[3]], [regr3[2],regr3[3]], [regr4[2],regr4[3]]]\n",
    "\n",
    "# pandasで表示\n",
    "cindex = ['相関係数 r', 'p値']\n",
    "lindex = ['Fig. 1', 'Fig. 2', 'Fig. 3', 'Fig. 4']\n",
    "dfrp = DataFrame(r_p, index = lindex, columns = cindex)\n",
    "dfrp \n",
    "# 有意水準 α=0.05"
   ]
  },
  {
   "cell_type": "markdown",
   "metadata": {},
   "source": [
    "* 相関係数 r -1から1、絶対値が1に近いほど点が直線的に並んでいることを意味  \n",
    "* p < 0.05なら有意"
   ]
  },
  {
   "cell_type": "markdown",
   "metadata": {},
   "source": [
    "いずれも有意だが、Fig. 3と4については、直線回帰でいいのか検討する必要あり。"
   ]
  },
  {
   "cell_type": "markdown",
   "metadata": {},
   "source": [
    "#### データセット2の結果\n",
    "描画"
   ]
  },
  {
   "cell_type": "code",
   "execution_count": 59,
   "metadata": {
    "collapsed": false
   },
   "outputs": [
    {
     "data": {
      "text/plain": [
       "<matplotlib.lines.Line2D at 0x9ef4690>"
      ]
     },
     "execution_count": 59,
     "metadata": {},
     "output_type": "execute_result"
    },
    {
     "data": {
      "image/png": "[encoded data removed]",
      "text/plain": [
       "<matplotlib.figure.Figure at 0x9b21d50>"
      ]
     },
     "metadata": {},
     "output_type": "display_data"
    }
   ],
   "source": [
    "f, (axx5, axy5, ax5) = plt.subplots(1, 3, figsize = (12, 3))\n",
    "\n",
    "axx5.hist(x2)\n",
    "axy5.hist(y2)\n",
    "ax5.scatter(x2, y2)\n",
    "\n",
    "axx5.set_title('x5', fontsize=18)\n",
    "axy5.set_title('y5', fontsize=18)\n",
    "axy5.set_title('x5-y5', fontsize=18)\n",
    "\n",
    "axx5.set_ylabel('sample N', fontsize=18)\n",
    "axy5.set_ylabel('sample N', fontsize=18)\n",
    "\n",
    "ax5.set_ylabel('y5', fontsize=18)\n",
    "ax5.set_xlabel('x5', fontsize=18)\n",
    "\n",
    "f.subplots_adjust(left=None, bottom=None, right=None, top=None, wspace=0.4, hspace=None)\n",
    "\n",
    "func = lambda x: x * slp2 + intcpt2\n",
    "lregr = lines.Line2D([0, 6], [func(0), func(6)], c = 'r', lw = 2)\n",
    "ax5.add_line(lregr)"
   ]
  },
  {
   "cell_type": "markdown",
   "metadata": {},
   "source": [
    "回帰の有意性？"
   ]
  },
  {
   "cell_type": "code",
   "execution_count": 60,
   "metadata": {
    "collapsed": false
   },
   "outputs": [
    {
     "data": {
      "text/html": [
       "<div style=\"max-height:1000px;max-width:1500px;overflow:auto;\">\n",
       "<table border=\"1\" class=\"dataframe\">\n",
       "  <thead>\n",
       "    <tr style=\"text-align: right;\">\n",
       "      <th></th>\n",
       "      <th>相関係数</th>\n",
       "      <th>p値</th>\n",
       "    </tr>\n",
       "  </thead>\n",
       "  <tbody>\n",
       "    <tr>\n",
       "      <th>Fig. 4</th>\n",
       "      <td> 0.800287</td>\n",
       "      <td> 0</td>\n",
       "    </tr>\n",
       "  </tbody>\n",
       "</table>\n",
       "</div>"
      ],
      "text/plain": [
       "            相関係数  p値\n",
       "Fig. 4  0.800287   0"
      ]
     },
     "execution_count": 60,
     "metadata": {},
     "output_type": "execute_result"
    }
   ],
   "source": [
    "r_p2 = [[rval2, pval2]]\n",
    "\n",
    "# pandasで表示\n",
    "cindex = ['相関係数', 'p値']\n",
    "lindex = ['Fig. 4']\n",
    "dfrp2 = DataFrame(r_p2, index = lindex, columns = cindex)\n",
    "dfrp2\n",
    "# 有意水準 α=0.05"
   ]
  },
  {
   "cell_type": "markdown",
   "metadata": {
    "collapsed": false
   },
   "source": [
    "有意だが、明らかに2群に分かれているので、解析方法再考の必要あり。"
   ]
  },
  {
   "cell_type": "markdown",
   "metadata": {},
   "source": [
    "### 5. 数式  "
   ]
  },
  {
   "cell_type": "code",
   "execution_count": 62,
   "metadata": {
    "collapsed": false
   },
   "outputs": [],
   "source": [
    "from sympy import *"
   ]
  },
  {
   "cell_type": "markdown",
   "metadata": {},
   "source": [
    "#### 平均"
   ]
  },
  {
   "cell_type": "markdown",
   "metadata": {},
   "source": [
    "$$\\mu = \\frac{1}{n} \\sum_{k=1}^n x $$"
   ]
  },
  {
   "cell_type": "markdown",
   "metadata": {},
   "source": [
    "$$= \\frac{1}{n} ({x}_1 + {x}_2 + \\cdots + {x}_{n})$$"
   ]
  },
  {
   "cell_type": "markdown",
   "metadata": {},
   "source": [
    "#### 平均値の計算"
   ]
  },
  {
   "cell_type": "code",
   "execution_count": 63,
   "metadata": {
    "collapsed": false
   },
   "outputs": [
    {
     "data": {
      "text/plain": [
       "2.0"
      ]
     },
     "execution_count": 63,
     "metadata": {},
     "output_type": "execute_result"
    }
   ],
   "source": [
    "# data\n",
    "x = [1, 2, 3]\n",
    "mu1 = (x[0] + x[1] + x[2]) / len(x)\n",
    "mu1"
   ]
  },
  {
   "cell_type": "markdown",
   "metadata": {},
   "source": [
    "#### 平均値の検算 by Numpy"
   ]
  },
  {
   "cell_type": "code",
   "execution_count": 64,
   "metadata": {
    "collapsed": false
   },
   "outputs": [
    {
     "data": {
      "text/plain": [
       "2.0"
      ]
     },
     "execution_count": 64,
     "metadata": {},
     "output_type": "execute_result"
    }
   ],
   "source": [
    "x = [1, 2, 3]\n",
    "mu2 = np.average(x)\n",
    "mu2"
   ]
  },
  {
   "cell_type": "markdown",
   "metadata": {},
   "source": [
    "#### 分散 = 標準偏差の二乗"
   ]
  },
  {
   "cell_type": "markdown",
   "metadata": {},
   "source": [
    "$$\\sigma^2 = \\frac{1}{n} \\sum_{k=1}^n (x - \\mu) ^2$$"
   ]
  },
  {
   "cell_type": "markdown",
   "metadata": {},
   "source": [
    "$$\\mu = \\frac{1}{n} \\sum_{k=1}^n x $$"
   ]
  },
  {
   "cell_type": "markdown",
   "metadata": {},
   "source": [
    "$$ = \\frac{1}{n} [(x_1 - \\mu)^2 + (x_2 - \\mu)^2 + \\dots + (x_n - \\mu)^2 ]$$"
   ]
  },
  {
   "cell_type": "markdown",
   "metadata": {},
   "source": [
    "#### 標準偏差"
   ]
  },
  {
   "cell_type": "markdown",
   "metadata": {},
   "source": [
    "$$\\sigma  = \\sqrt{\\frac{1}{n} [(x_1 - \\mu)^2 + (x_2 - \\mu)^2 + \\dots + (x_n - \\mu)^2 ]}$$"
   ]
  },
  {
   "cell_type": "markdown",
   "metadata": {},
   "source": [
    "#### 標準偏差の計算"
   ]
  },
  {
   "cell_type": "code",
   "execution_count": 65,
   "metadata": {
    "collapsed": false
   },
   "outputs": [
    {
     "data": {
      "text/plain": [
       "0.816496580927726"
      ]
     },
     "execution_count": 65,
     "metadata": {},
     "output_type": "execute_result"
    }
   ],
   "source": [
    "sd1 = sqrt(((x[0]-mu1) ** 2 + (x[1]-mu1) ** 2 + (x[2]-mu1) ** 2) / len(x))\n",
    "sd1"
   ]
  },
  {
   "cell_type": "markdown",
   "metadata": {},
   "source": [
    "#### 標準偏差の検算 by Numpy"
   ]
  },
  {
   "cell_type": "code",
   "execution_count": 66,
   "metadata": {
    "collapsed": false
   },
   "outputs": [
    {
     "data": {
      "text/plain": [
       "0.81649658092772603"
      ]
     },
     "execution_count": 66,
     "metadata": {},
     "output_type": "execute_result"
    }
   ],
   "source": [
    "np.std(x)"
   ]
  },
  {
   "cell_type": "markdown",
   "metadata": {},
   "source": [
    "#### Sympyを使った標準偏差の計算"
   ]
  },
  {
   "cell_type": "code",
   "execution_count": 67,
   "metadata": {
    "collapsed": false
   },
   "outputs": [
    {
     "data": {
      "text/plain": [
       "(a - b)**2"
      ]
     },
     "execution_count": 67,
     "metadata": {},
     "output_type": "execute_result"
    }
   ],
   "source": [
    "a, b = symbols('a b') # 記号を定義\n",
    "d = (a - b) ** 2\n",
    "d"
   ]
  },
  {
   "cell_type": "code",
   "execution_count": 68,
   "metadata": {
    "collapsed": false
   },
   "outputs": [
    {
     "data": {
      "text/plain": [
       "0.816496580927726"
      ]
     },
     "execution_count": 68,
     "metadata": {},
     "output_type": "execute_result"
    }
   ],
   "source": [
    "dd = np.array(np.empty(3))\n",
    "\n",
    "for i in range(len(x)):\n",
    "    dd[i] = d.subs([(a, x[i]), (b, mu1)])\n",
    "\n",
    "sd2 = sqrt((dd[0] + dd[1] + dd[2]) / len(x))\n",
    "sd2"
   ]
  },
  {
   "cell_type": "markdown",
   "metadata": {},
   "source": [
    "##### 蛇足ですが、Sympyは関数展開も出来ます"
   ]
  },
  {
   "cell_type": "code",
   "execution_count": 69,
   "metadata": {
    "collapsed": false
   },
   "outputs": [
    {
     "data": {
      "text/plain": [
       "a**2 - 2*a*b + b**2"
      ]
     },
     "execution_count": 69,
     "metadata": {},
     "output_type": "execute_result"
    }
   ],
   "source": [
    "expand(d)"
   ]
  },
  {
   "cell_type": "markdown",
   "metadata": {},
   "source": [
    "参考サイト\n",
    "1. 作図  \n",
    "http://matplotlib.org/api/pyplot_api.html#matplotlib.pyplot.subplot  \n",
    "\n",
    "2. Sympy  \n",
    "http://www.sympy.org/en/index.html    \n",
    "http://nbviewer.ipython.org/github/ipython/ipython/blob/2.x/examples/Notebook/Typesetting%20Math%20Using%20MathJax.ipynb    "
   ]
  }
 ],
 "metadata": {
  "kernelspec": {
   "display_name": "Python 3",
   "language": "python",
   "name": "python3"
  },
  "language_info": {
   "codemirror_mode": {
    "name": "ipython",
    "version": 3
   },
   "file_extension": ".py",
   "mimetype": "text/x-python",
   "name": "python",
   "nbconvert_exporter": "python",
   "pygments_lexer": "ipython3",
   "version": "3.4.3"
  }
 },
 "nbformat": 4,
 "nbformat_minor": 0
}
